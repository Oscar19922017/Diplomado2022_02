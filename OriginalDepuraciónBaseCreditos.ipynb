{
  "nbformat": 4,
  "nbformat_minor": 0,
  "metadata": {
    "colab": {
      "name": "OriginalDepuraciónBaseCreditos.ipynb",
      "provenance": [],
      "collapsed_sections": [],
      "toc_visible": true,
      "mount_file_id": "1Y5mSRwINL7PdIIBnogtAzFkHsEiPuTkm",
      "authorship_tag": "ABX9TyMGTNS0bgWE22ZGSvTVtNQw",
      "include_colab_link": true
    },
    "kernelspec": {
      "name": "python3",
      "display_name": "Python 3"
    },
    "language_info": {
      "name": "python"
    }
  },
  "cells": [
    {
      "cell_type": "markdown",
      "metadata": {
        "id": "view-in-github",
        "colab_type": "text"
      },
      "source": [
        "<a href=\"https://colab.research.google.com/github/Oscar19922017/Diplomado2022_02/blob/main/OriginalDepuraci%C3%B3nBaseCreditos.ipynb\" target=\"_parent\"><img src=\"https://colab.research.google.com/assets/colab-badge.svg\" alt=\"Open In Colab\"/></a>"
      ]
    },
    {
      "cell_type": "markdown",
      "source": [
        "## **1) Descripción del Problema**\n",
        "\n",
        "Las amenazas financieras están mostrando una tendencia sobre el riesgo crediticio de los bancos comerciales a medida que ha surgido la increíble mejora en la industria financiera. De esta forma, una de las mayores amenazas a las que se enfrentan los bancos comerciales es la predicción del riesgo de los clientes de crédito.\n",
        "\n",
        "Los estudios recientes se centran principalmente en mejorar el rendimiento del clasificador para la predicción de incumplimiento de tarjetas de crédito en lugar de un modelo interpretable\n",
        "\n",
        "En los problemas de clasificación, un conjunto de datos desequilibrado también es crucial para mejorar el rendimiento del modelo porque la mayoría de los casos se encuentran en una clase y solo unos pocos ejemplos están en otras categorías\n",
        "\n",
        "Objetivo General : Encontrar un modelo de clasificación y predicción para predecir el Default de Crédito para Bank of America"
      ],
      "metadata": {
        "id": "8gBOuxWiDse9"
      }
    },
    {
      "cell_type": "markdown",
      "source": [
        "# **2) Descripción de los Datos**"
      ],
      "metadata": {
        "id": "AoehLFz-EMeu"
      }
    },
    {
      "cell_type": "markdown",
      "source": [
        "## **Cargar Librerias**"
      ],
      "metadata": {
        "id": "MrRliWBVE6Hc"
      }
    },
    {
      "cell_type": "code",
      "source": [
        "import numpy as np # calculo Matricial\n",
        "import pandas as pd # Excel Python: \n",
        "from datetime import time # Fechas\n",
        "import matplotlib.pyplot as plt ## Gráficas\n",
        "import seaborn as sns ## Gráficas Estadisticas\n",
        "import os # sistema\n",
        "pd.set_option(\"max_columns\",50)"
      ],
      "metadata": {
        "id": "X8GoUnkVDxS_"
      },
      "execution_count": 13,
      "outputs": []
    },
    {
      "cell_type": "code",
      "source": [
        "os.getcwd()"
      ],
      "metadata": {
        "colab": {
          "base_uri": "https://localhost:8080/",
          "height": 36
        },
        "id": "3E-r93pAFWpF",
        "outputId": "941dfd67-480b-4ee8-883a-2062248abab8"
      },
      "execution_count": 14,
      "outputs": [
        {
          "output_type": "execute_result",
          "data": {
            "text/plain": [
              "'/content'"
            ],
            "application/vnd.google.colaboratory.intrinsic+json": {
              "type": "string"
            }
          },
          "metadata": {},
          "execution_count": 14
        }
      ]
    },
    {
      "cell_type": "markdown",
      "source": [
        "## **Importar Datos**"
      ],
      "metadata": {
        "id": "imdm8fBIF8hu"
      }
    },
    {
      "cell_type": "code",
      "source": [
        "Ruta=\"/content/drive/MyDrive/Diplomado_2022_02/IntroduccionPython/Insumos/UCI_Credit_Card.csv\"\n",
        "#RutaGithub\n",
        "RutaGithub=\"https://raw.githubusercontent.com/Oscar19922017/Diplomado2022_02/main/UCI_Credit_Card.csv\""
      ],
      "metadata": {
        "id": "u1JuYc2LF2E1"
      },
      "execution_count": 15,
      "outputs": []
    },
    {
      "cell_type": "code",
      "source": [
        "df=pd.read_csv(RutaGithub)"
      ],
      "metadata": {
        "id": "KYoy3wy4GS5m"
      },
      "execution_count": 16,
      "outputs": []
    },
    {
      "cell_type": "code",
      "source": [
        "## Los primeros datos\n",
        "df.head(10)"
      ],
      "metadata": {
        "colab": {
          "base_uri": "https://localhost:8080/",
          "height": 427
        },
        "id": "b1377LB2GgVE",
        "outputId": "e55ea65d-d443-458e-daee-fa922128c999"
      },
      "execution_count": 17,
      "outputs": [
        {
          "output_type": "execute_result",
          "data": {
            "text/plain": [
              "   ID  LIMIT_BAL  SEX  EDUCATION  MARRIAGE  AGE  PAY_0  PAY_2  PAY_3  PAY_4  \\\n",
              "0   1    20000.0    2          2         1   24      2      2     -1     -1   \n",
              "1   2   120000.0    2          2         2   26     -1      2      0      0   \n",
              "2   3    90000.0    2          2         2   34      0      0      0      0   \n",
              "3   4    50000.0    2          2         1   37      0      0      0      0   \n",
              "4   5    50000.0    1          2         1   57     -1      0     -1      0   \n",
              "5   6    50000.0    1          1         2   37      0      0      0      0   \n",
              "6   7   500000.0    1          1         2   29      0      0      0      0   \n",
              "7   8   100000.0    2          2         2   23      0     -1     -1      0   \n",
              "8   9   140000.0    2          3         1   28      0      0      2      0   \n",
              "9  10    20000.0    1          3         2   35     -2     -2     -2     -2   \n",
              "\n",
              "   PAY_5  PAY_6  BILL_AMT1  BILL_AMT2  BILL_AMT3  BILL_AMT4  BILL_AMT5  \\\n",
              "0     -2     -2     3913.0     3102.0      689.0        0.0        0.0   \n",
              "1      0      2     2682.0     1725.0     2682.0     3272.0     3455.0   \n",
              "2      0      0    29239.0    14027.0    13559.0    14331.0    14948.0   \n",
              "3      0      0    46990.0    48233.0    49291.0    28314.0    28959.0   \n",
              "4      0      0     8617.0     5670.0    35835.0    20940.0    19146.0   \n",
              "5      0      0    64400.0    57069.0    57608.0    19394.0    19619.0   \n",
              "6      0      0   367965.0   412023.0   445007.0   542653.0   483003.0   \n",
              "7      0     -1    11876.0      380.0      601.0      221.0     -159.0   \n",
              "8      0      0    11285.0    14096.0    12108.0    12211.0    11793.0   \n",
              "9     -1     -1        0.0        0.0        0.0        0.0    13007.0   \n",
              "\n",
              "   BILL_AMT6  PAY_AMT1  PAY_AMT2  PAY_AMT3  PAY_AMT4  PAY_AMT5  PAY_AMT6  \\\n",
              "0        0.0       0.0     689.0       0.0       0.0       0.0       0.0   \n",
              "1     3261.0       0.0    1000.0    1000.0    1000.0       0.0    2000.0   \n",
              "2    15549.0    1518.0    1500.0    1000.0    1000.0    1000.0    5000.0   \n",
              "3    29547.0    2000.0    2019.0    1200.0    1100.0    1069.0    1000.0   \n",
              "4    19131.0    2000.0   36681.0   10000.0    9000.0     689.0     679.0   \n",
              "5    20024.0    2500.0    1815.0     657.0    1000.0    1000.0     800.0   \n",
              "6   473944.0   55000.0   40000.0   38000.0   20239.0   13750.0   13770.0   \n",
              "7      567.0     380.0     601.0       0.0     581.0    1687.0    1542.0   \n",
              "8     3719.0    3329.0       0.0     432.0    1000.0    1000.0    1000.0   \n",
              "9    13912.0       0.0       0.0       0.0   13007.0    1122.0       0.0   \n",
              "\n",
              "   default.payment.next.month  \n",
              "0                           1  \n",
              "1                           1  \n",
              "2                           0  \n",
              "3                           0  \n",
              "4                           0  \n",
              "5                           0  \n",
              "6                           0  \n",
              "7                           0  \n",
              "8                           0  \n",
              "9                           0  "
            ],
            "text/html": [
              "\n",
              "  <div id=\"df-4bcb6033-b5f2-4f95-8fc7-6d4cc88de342\">\n",
              "    <div class=\"colab-df-container\">\n",
              "      <div>\n",
              "<style scoped>\n",
              "    .dataframe tbody tr th:only-of-type {\n",
              "        vertical-align: middle;\n",
              "    }\n",
              "\n",
              "    .dataframe tbody tr th {\n",
              "        vertical-align: top;\n",
              "    }\n",
              "\n",
              "    .dataframe thead th {\n",
              "        text-align: right;\n",
              "    }\n",
              "</style>\n",
              "<table border=\"1\" class=\"dataframe\">\n",
              "  <thead>\n",
              "    <tr style=\"text-align: right;\">\n",
              "      <th></th>\n",
              "      <th>ID</th>\n",
              "      <th>LIMIT_BAL</th>\n",
              "      <th>SEX</th>\n",
              "      <th>EDUCATION</th>\n",
              "      <th>MARRIAGE</th>\n",
              "      <th>AGE</th>\n",
              "      <th>PAY_0</th>\n",
              "      <th>PAY_2</th>\n",
              "      <th>PAY_3</th>\n",
              "      <th>PAY_4</th>\n",
              "      <th>PAY_5</th>\n",
              "      <th>PAY_6</th>\n",
              "      <th>BILL_AMT1</th>\n",
              "      <th>BILL_AMT2</th>\n",
              "      <th>BILL_AMT3</th>\n",
              "      <th>BILL_AMT4</th>\n",
              "      <th>BILL_AMT5</th>\n",
              "      <th>BILL_AMT6</th>\n",
              "      <th>PAY_AMT1</th>\n",
              "      <th>PAY_AMT2</th>\n",
              "      <th>PAY_AMT3</th>\n",
              "      <th>PAY_AMT4</th>\n",
              "      <th>PAY_AMT5</th>\n",
              "      <th>PAY_AMT6</th>\n",
              "      <th>default.payment.next.month</th>\n",
              "    </tr>\n",
              "  </thead>\n",
              "  <tbody>\n",
              "    <tr>\n",
              "      <th>0</th>\n",
              "      <td>1</td>\n",
              "      <td>20000.0</td>\n",
              "      <td>2</td>\n",
              "      <td>2</td>\n",
              "      <td>1</td>\n",
              "      <td>24</td>\n",
              "      <td>2</td>\n",
              "      <td>2</td>\n",
              "      <td>-1</td>\n",
              "      <td>-1</td>\n",
              "      <td>-2</td>\n",
              "      <td>-2</td>\n",
              "      <td>3913.0</td>\n",
              "      <td>3102.0</td>\n",
              "      <td>689.0</td>\n",
              "      <td>0.0</td>\n",
              "      <td>0.0</td>\n",
              "      <td>0.0</td>\n",
              "      <td>0.0</td>\n",
              "      <td>689.0</td>\n",
              "      <td>0.0</td>\n",
              "      <td>0.0</td>\n",
              "      <td>0.0</td>\n",
              "      <td>0.0</td>\n",
              "      <td>1</td>\n",
              "    </tr>\n",
              "    <tr>\n",
              "      <th>1</th>\n",
              "      <td>2</td>\n",
              "      <td>120000.0</td>\n",
              "      <td>2</td>\n",
              "      <td>2</td>\n",
              "      <td>2</td>\n",
              "      <td>26</td>\n",
              "      <td>-1</td>\n",
              "      <td>2</td>\n",
              "      <td>0</td>\n",
              "      <td>0</td>\n",
              "      <td>0</td>\n",
              "      <td>2</td>\n",
              "      <td>2682.0</td>\n",
              "      <td>1725.0</td>\n",
              "      <td>2682.0</td>\n",
              "      <td>3272.0</td>\n",
              "      <td>3455.0</td>\n",
              "      <td>3261.0</td>\n",
              "      <td>0.0</td>\n",
              "      <td>1000.0</td>\n",
              "      <td>1000.0</td>\n",
              "      <td>1000.0</td>\n",
              "      <td>0.0</td>\n",
              "      <td>2000.0</td>\n",
              "      <td>1</td>\n",
              "    </tr>\n",
              "    <tr>\n",
              "      <th>2</th>\n",
              "      <td>3</td>\n",
              "      <td>90000.0</td>\n",
              "      <td>2</td>\n",
              "      <td>2</td>\n",
              "      <td>2</td>\n",
              "      <td>34</td>\n",
              "      <td>0</td>\n",
              "      <td>0</td>\n",
              "      <td>0</td>\n",
              "      <td>0</td>\n",
              "      <td>0</td>\n",
              "      <td>0</td>\n",
              "      <td>29239.0</td>\n",
              "      <td>14027.0</td>\n",
              "      <td>13559.0</td>\n",
              "      <td>14331.0</td>\n",
              "      <td>14948.0</td>\n",
              "      <td>15549.0</td>\n",
              "      <td>1518.0</td>\n",
              "      <td>1500.0</td>\n",
              "      <td>1000.0</td>\n",
              "      <td>1000.0</td>\n",
              "      <td>1000.0</td>\n",
              "      <td>5000.0</td>\n",
              "      <td>0</td>\n",
              "    </tr>\n",
              "    <tr>\n",
              "      <th>3</th>\n",
              "      <td>4</td>\n",
              "      <td>50000.0</td>\n",
              "      <td>2</td>\n",
              "      <td>2</td>\n",
              "      <td>1</td>\n",
              "      <td>37</td>\n",
              "      <td>0</td>\n",
              "      <td>0</td>\n",
              "      <td>0</td>\n",
              "      <td>0</td>\n",
              "      <td>0</td>\n",
              "      <td>0</td>\n",
              "      <td>46990.0</td>\n",
              "      <td>48233.0</td>\n",
              "      <td>49291.0</td>\n",
              "      <td>28314.0</td>\n",
              "      <td>28959.0</td>\n",
              "      <td>29547.0</td>\n",
              "      <td>2000.0</td>\n",
              "      <td>2019.0</td>\n",
              "      <td>1200.0</td>\n",
              "      <td>1100.0</td>\n",
              "      <td>1069.0</td>\n",
              "      <td>1000.0</td>\n",
              "      <td>0</td>\n",
              "    </tr>\n",
              "    <tr>\n",
              "      <th>4</th>\n",
              "      <td>5</td>\n",
              "      <td>50000.0</td>\n",
              "      <td>1</td>\n",
              "      <td>2</td>\n",
              "      <td>1</td>\n",
              "      <td>57</td>\n",
              "      <td>-1</td>\n",
              "      <td>0</td>\n",
              "      <td>-1</td>\n",
              "      <td>0</td>\n",
              "      <td>0</td>\n",
              "      <td>0</td>\n",
              "      <td>8617.0</td>\n",
              "      <td>5670.0</td>\n",
              "      <td>35835.0</td>\n",
              "      <td>20940.0</td>\n",
              "      <td>19146.0</td>\n",
              "      <td>19131.0</td>\n",
              "      <td>2000.0</td>\n",
              "      <td>36681.0</td>\n",
              "      <td>10000.0</td>\n",
              "      <td>9000.0</td>\n",
              "      <td>689.0</td>\n",
              "      <td>679.0</td>\n",
              "      <td>0</td>\n",
              "    </tr>\n",
              "    <tr>\n",
              "      <th>5</th>\n",
              "      <td>6</td>\n",
              "      <td>50000.0</td>\n",
              "      <td>1</td>\n",
              "      <td>1</td>\n",
              "      <td>2</td>\n",
              "      <td>37</td>\n",
              "      <td>0</td>\n",
              "      <td>0</td>\n",
              "      <td>0</td>\n",
              "      <td>0</td>\n",
              "      <td>0</td>\n",
              "      <td>0</td>\n",
              "      <td>64400.0</td>\n",
              "      <td>57069.0</td>\n",
              "      <td>57608.0</td>\n",
              "      <td>19394.0</td>\n",
              "      <td>19619.0</td>\n",
              "      <td>20024.0</td>\n",
              "      <td>2500.0</td>\n",
              "      <td>1815.0</td>\n",
              "      <td>657.0</td>\n",
              "      <td>1000.0</td>\n",
              "      <td>1000.0</td>\n",
              "      <td>800.0</td>\n",
              "      <td>0</td>\n",
              "    </tr>\n",
              "    <tr>\n",
              "      <th>6</th>\n",
              "      <td>7</td>\n",
              "      <td>500000.0</td>\n",
              "      <td>1</td>\n",
              "      <td>1</td>\n",
              "      <td>2</td>\n",
              "      <td>29</td>\n",
              "      <td>0</td>\n",
              "      <td>0</td>\n",
              "      <td>0</td>\n",
              "      <td>0</td>\n",
              "      <td>0</td>\n",
              "      <td>0</td>\n",
              "      <td>367965.0</td>\n",
              "      <td>412023.0</td>\n",
              "      <td>445007.0</td>\n",
              "      <td>542653.0</td>\n",
              "      <td>483003.0</td>\n",
              "      <td>473944.0</td>\n",
              "      <td>55000.0</td>\n",
              "      <td>40000.0</td>\n",
              "      <td>38000.0</td>\n",
              "      <td>20239.0</td>\n",
              "      <td>13750.0</td>\n",
              "      <td>13770.0</td>\n",
              "      <td>0</td>\n",
              "    </tr>\n",
              "    <tr>\n",
              "      <th>7</th>\n",
              "      <td>8</td>\n",
              "      <td>100000.0</td>\n",
              "      <td>2</td>\n",
              "      <td>2</td>\n",
              "      <td>2</td>\n",
              "      <td>23</td>\n",
              "      <td>0</td>\n",
              "      <td>-1</td>\n",
              "      <td>-1</td>\n",
              "      <td>0</td>\n",
              "      <td>0</td>\n",
              "      <td>-1</td>\n",
              "      <td>11876.0</td>\n",
              "      <td>380.0</td>\n",
              "      <td>601.0</td>\n",
              "      <td>221.0</td>\n",
              "      <td>-159.0</td>\n",
              "      <td>567.0</td>\n",
              "      <td>380.0</td>\n",
              "      <td>601.0</td>\n",
              "      <td>0.0</td>\n",
              "      <td>581.0</td>\n",
              "      <td>1687.0</td>\n",
              "      <td>1542.0</td>\n",
              "      <td>0</td>\n",
              "    </tr>\n",
              "    <tr>\n",
              "      <th>8</th>\n",
              "      <td>9</td>\n",
              "      <td>140000.0</td>\n",
              "      <td>2</td>\n",
              "      <td>3</td>\n",
              "      <td>1</td>\n",
              "      <td>28</td>\n",
              "      <td>0</td>\n",
              "      <td>0</td>\n",
              "      <td>2</td>\n",
              "      <td>0</td>\n",
              "      <td>0</td>\n",
              "      <td>0</td>\n",
              "      <td>11285.0</td>\n",
              "      <td>14096.0</td>\n",
              "      <td>12108.0</td>\n",
              "      <td>12211.0</td>\n",
              "      <td>11793.0</td>\n",
              "      <td>3719.0</td>\n",
              "      <td>3329.0</td>\n",
              "      <td>0.0</td>\n",
              "      <td>432.0</td>\n",
              "      <td>1000.0</td>\n",
              "      <td>1000.0</td>\n",
              "      <td>1000.0</td>\n",
              "      <td>0</td>\n",
              "    </tr>\n",
              "    <tr>\n",
              "      <th>9</th>\n",
              "      <td>10</td>\n",
              "      <td>20000.0</td>\n",
              "      <td>1</td>\n",
              "      <td>3</td>\n",
              "      <td>2</td>\n",
              "      <td>35</td>\n",
              "      <td>-2</td>\n",
              "      <td>-2</td>\n",
              "      <td>-2</td>\n",
              "      <td>-2</td>\n",
              "      <td>-1</td>\n",
              "      <td>-1</td>\n",
              "      <td>0.0</td>\n",
              "      <td>0.0</td>\n",
              "      <td>0.0</td>\n",
              "      <td>0.0</td>\n",
              "      <td>13007.0</td>\n",
              "      <td>13912.0</td>\n",
              "      <td>0.0</td>\n",
              "      <td>0.0</td>\n",
              "      <td>0.0</td>\n",
              "      <td>13007.0</td>\n",
              "      <td>1122.0</td>\n",
              "      <td>0.0</td>\n",
              "      <td>0</td>\n",
              "    </tr>\n",
              "  </tbody>\n",
              "</table>\n",
              "</div>\n",
              "      <button class=\"colab-df-convert\" onclick=\"convertToInteractive('df-4bcb6033-b5f2-4f95-8fc7-6d4cc88de342')\"\n",
              "              title=\"Convert this dataframe to an interactive table.\"\n",
              "              style=\"display:none;\">\n",
              "        \n",
              "  <svg xmlns=\"http://www.w3.org/2000/svg\" height=\"24px\"viewBox=\"0 0 24 24\"\n",
              "       width=\"24px\">\n",
              "    <path d=\"M0 0h24v24H0V0z\" fill=\"none\"/>\n",
              "    <path d=\"M18.56 5.44l.94 2.06.94-2.06 2.06-.94-2.06-.94-.94-2.06-.94 2.06-2.06.94zm-11 1L8.5 8.5l.94-2.06 2.06-.94-2.06-.94L8.5 2.5l-.94 2.06-2.06.94zm10 10l.94 2.06.94-2.06 2.06-.94-2.06-.94-.94-2.06-.94 2.06-2.06.94z\"/><path d=\"M17.41 7.96l-1.37-1.37c-.4-.4-.92-.59-1.43-.59-.52 0-1.04.2-1.43.59L10.3 9.45l-7.72 7.72c-.78.78-.78 2.05 0 2.83L4 21.41c.39.39.9.59 1.41.59.51 0 1.02-.2 1.41-.59l7.78-7.78 2.81-2.81c.8-.78.8-2.07 0-2.86zM5.41 20L4 18.59l7.72-7.72 1.47 1.35L5.41 20z\"/>\n",
              "  </svg>\n",
              "      </button>\n",
              "      \n",
              "  <style>\n",
              "    .colab-df-container {\n",
              "      display:flex;\n",
              "      flex-wrap:wrap;\n",
              "      gap: 12px;\n",
              "    }\n",
              "\n",
              "    .colab-df-convert {\n",
              "      background-color: #E8F0FE;\n",
              "      border: none;\n",
              "      border-radius: 50%;\n",
              "      cursor: pointer;\n",
              "      display: none;\n",
              "      fill: #1967D2;\n",
              "      height: 32px;\n",
              "      padding: 0 0 0 0;\n",
              "      width: 32px;\n",
              "    }\n",
              "\n",
              "    .colab-df-convert:hover {\n",
              "      background-color: #E2EBFA;\n",
              "      box-shadow: 0px 1px 2px rgba(60, 64, 67, 0.3), 0px 1px 3px 1px rgba(60, 64, 67, 0.15);\n",
              "      fill: #174EA6;\n",
              "    }\n",
              "\n",
              "    [theme=dark] .colab-df-convert {\n",
              "      background-color: #3B4455;\n",
              "      fill: #D2E3FC;\n",
              "    }\n",
              "\n",
              "    [theme=dark] .colab-df-convert:hover {\n",
              "      background-color: #434B5C;\n",
              "      box-shadow: 0px 1px 3px 1px rgba(0, 0, 0, 0.15);\n",
              "      filter: drop-shadow(0px 1px 2px rgba(0, 0, 0, 0.3));\n",
              "      fill: #FFFFFF;\n",
              "    }\n",
              "  </style>\n",
              "\n",
              "      <script>\n",
              "        const buttonEl =\n",
              "          document.querySelector('#df-4bcb6033-b5f2-4f95-8fc7-6d4cc88de342 button.colab-df-convert');\n",
              "        buttonEl.style.display =\n",
              "          google.colab.kernel.accessAllowed ? 'block' : 'none';\n",
              "\n",
              "        async function convertToInteractive(key) {\n",
              "          const element = document.querySelector('#df-4bcb6033-b5f2-4f95-8fc7-6d4cc88de342');\n",
              "          const dataTable =\n",
              "            await google.colab.kernel.invokeFunction('convertToInteractive',\n",
              "                                                     [key], {});\n",
              "          if (!dataTable) return;\n",
              "\n",
              "          const docLinkHtml = 'Like what you see? Visit the ' +\n",
              "            '<a target=\"_blank\" href=https://colab.research.google.com/notebooks/data_table.ipynb>data table notebook</a>'\n",
              "            + ' to learn more about interactive tables.';\n",
              "          element.innerHTML = '';\n",
              "          dataTable['output_type'] = 'display_data';\n",
              "          await google.colab.output.renderOutput(dataTable, element);\n",
              "          const docLink = document.createElement('div');\n",
              "          docLink.innerHTML = docLinkHtml;\n",
              "          element.appendChild(docLink);\n",
              "        }\n",
              "      </script>\n",
              "    </div>\n",
              "  </div>\n",
              "  "
            ]
          },
          "metadata": {},
          "execution_count": 17
        }
      ]
    },
    {
      "cell_type": "markdown",
      "source": [
        "## **Diccionario Variables**\n",
        "\n",
        "* ID : ID de cada cliente\n",
        "* Monto_Credito : cantidad del crédito otorgado en dólares NT (incluye crédito individual y familiar / suplementario\n",
        "* SEXO : Género (1 = masculino, 2 = femenino)\n",
        "* EDUCACIÓN : (1 = posgrado, 2 = universidad, 3 = bachillerato, 4 = otros, 5 = desconocido, 6 = desconocido)\n",
        "* MATRIMONIO : Estado civil (1 = casado, 2 = soltero, 3 = otros)\n",
        "* EDAD : Edad en años\n",
        "* PAY_0 : Estado de reembolso en septiembre de 2005 (-1 = pago debidamente, 1 = retraso en el pago durante un mes, 2 = retraso en el pago durante dos meses,… 8 = retraso en el pago durante ocho meses, 9 = retraso en el pago durante nueve meses o más)\n",
        "* PAY_2 : Estado de reembolso en agosto de 2005 (escala igual a la anterior)\n",
        "* PAY_3 : Estado de reembolso en julio de 2005 (escala igual a la anterior)\n",
        "* PAY_4 : Estado de reembolso en junio de 2005 (escala igual a la anterior)\n",
        "* PAY_5 : Estado de reembolso en mayo de 2005 (escala igual a la anterior)\n",
        "* PAY_6 : Estado de reembolso en abril de 2005 (escala igual a la anterior)\n",
        "* BILL_AMT1 : Monto del extracto de la factura en septiembre de 2005 (dólar NT)\n",
        "* BILL_AMT2 : Monto del extracto de la factura en agosto de 2005 (dólar NT)\n",
        "* BILL_AMT3 : Monto del extracto de la factura en julio de 2005 (dólar NT)\n",
        "* BILL_AMT4 : Monto del extracto de la factura en junio de 2005 (dólar NT)\n",
        "* BILL_AMT5 : Monto del extracto de la factura en mayo de 2005 (dólar NT)\n",
        "* BILL_AMT6 : Monto del extracto de la factura en abril de 2005 (dólar NT)\n",
        "* PAY_AMT1 : Monto del pago anterior en septiembre de 2005 (dólar NT)\n",
        "* PAY_AMT2 : Monto del pago anterior en agosto de 2005 (dólar NT)\n",
        "* PAY_AMT3 : Monto del pago anterior en julio de 2005 (dólar NT)\n",
        "* PAY_AMT4 : Monto del pago anterior en junio de 2005 (dólar NT)\n",
        "* PAY_AMT5 : Monto del pago anterior en mayo de 2005 (dólar NT)\n",
        "* PAY_AMT6 : Monto del pago anterior en abril de 2005 (dólar NT)\n",
        "* default.payment.next.month : pago predeterminado (1 = sí, 0 = no)"
      ],
      "metadata": {
        "id": "IyXzRENuKE_g"
      }
    },
    {
      "cell_type": "code",
      "source": [
        "## Dimensión"
      ],
      "metadata": {
        "id": "eV1GzzR0Gsl0"
      },
      "execution_count": 18,
      "outputs": []
    },
    {
      "cell_type": "code",
      "source": [
        "df.shape"
      ],
      "metadata": {
        "colab": {
          "base_uri": "https://localhost:8080/"
        },
        "id": "igGtHlK2LVCD",
        "outputId": "0538ee5d-250d-4ed7-fc1d-a1fb5db7fdb9"
      },
      "execution_count": 20,
      "outputs": [
        {
          "output_type": "execute_result",
          "data": {
            "text/plain": [
              "(30000, 25)"
            ]
          },
          "metadata": {},
          "execution_count": 20
        }
      ]
    },
    {
      "cell_type": "code",
      "source": [
        "print(f'La Base de Datos Tiene: {df.shape[0]} filas y tiene : {df.shape[1]} Columnas')"
      ],
      "metadata": {
        "colab": {
          "base_uri": "https://localhost:8080/"
        },
        "id": "0WMA_LUMLY7l",
        "outputId": "09fc7e7e-bb36-4ec5-a22f-3b7829a87462"
      },
      "execution_count": 22,
      "outputs": [
        {
          "output_type": "stream",
          "name": "stdout",
          "text": [
            "La Base de Datos Tiene: 30000 filas y tiene : 25 Columnas\n"
          ]
        }
      ]
    },
    {
      "cell_type": "code",
      "source": [
        "## Los ultimos datos\n",
        "df.tail(10)"
      ],
      "metadata": {
        "colab": {
          "base_uri": "https://localhost:8080/",
          "height": 427
        },
        "id": "AYwyzRd9Lsxp",
        "outputId": "69e741f8-b72b-46b7-cda6-26e7b40116e8"
      },
      "execution_count": 23,
      "outputs": [
        {
          "output_type": "execute_result",
          "data": {
            "text/plain": [
              "          ID  LIMIT_BAL  SEX  EDUCATION  MARRIAGE  AGE  PAY_0  PAY_2  PAY_3  \\\n",
              "29990  29991   140000.0    1          2         1   41      0      0      0   \n",
              "29991  29992   210000.0    1          2         1   34      3      2      2   \n",
              "29992  29993    10000.0    1          3         1   43      0      0      0   \n",
              "29993  29994   100000.0    1          1         2   38      0     -1     -1   \n",
              "29994  29995    80000.0    1          2         2   34      2      2      2   \n",
              "29995  29996   220000.0    1          3         1   39      0      0      0   \n",
              "29996  29997   150000.0    1          3         2   43     -1     -1     -1   \n",
              "29997  29998    30000.0    1          2         2   37      4      3      2   \n",
              "29998  29999    80000.0    1          3         1   41      1     -1      0   \n",
              "29999  30000    50000.0    1          2         1   46      0      0      0   \n",
              "\n",
              "       PAY_4  PAY_5  PAY_6  BILL_AMT1  BILL_AMT2  BILL_AMT3  BILL_AMT4  \\\n",
              "29990      0      0      0   138325.0   137142.0   139110.0   138262.0   \n",
              "29991      2      2      2     2500.0     2500.0     2500.0     2500.0   \n",
              "29992     -2     -2     -2     8802.0    10400.0        0.0        0.0   \n",
              "29993      0      0      0     3042.0     1427.0   102996.0    70626.0   \n",
              "29994      2      2      2    72557.0    77708.0    79384.0    77519.0   \n",
              "29995      0      0      0   188948.0   192815.0   208365.0    88004.0   \n",
              "29996     -1      0      0     1683.0     1828.0     3502.0     8979.0   \n",
              "29997     -1      0      0     3565.0     3356.0     2758.0    20878.0   \n",
              "29998      0      0     -1    -1645.0    78379.0    76304.0    52774.0   \n",
              "29999      0      0      0    47929.0    48905.0    49764.0    36535.0   \n",
              "\n",
              "       BILL_AMT5  BILL_AMT6  PAY_AMT1  PAY_AMT2  PAY_AMT3  PAY_AMT4  PAY_AMT5  \\\n",
              "29990    49675.0    46121.0    6000.0    7000.0    4228.0    1505.0    2000.0   \n",
              "29991     2500.0     2500.0       0.0       0.0       0.0       0.0       0.0   \n",
              "29992        0.0        0.0    2000.0       0.0       0.0       0.0       0.0   \n",
              "29993    69473.0    55004.0    2000.0  111784.0    4000.0    3000.0    2000.0   \n",
              "29994    82607.0    81158.0    7000.0    3500.0       0.0    7000.0       0.0   \n",
              "29995    31237.0    15980.0    8500.0   20000.0    5003.0    3047.0    5000.0   \n",
              "29996     5190.0        0.0    1837.0    3526.0    8998.0     129.0       0.0   \n",
              "29997    20582.0    19357.0       0.0       0.0   22000.0    4200.0    2000.0   \n",
              "29998    11855.0    48944.0   85900.0    3409.0    1178.0    1926.0   52964.0   \n",
              "29999    32428.0    15313.0    2078.0    1800.0    1430.0    1000.0    1000.0   \n",
              "\n",
              "       PAY_AMT6  default.payment.next.month  \n",
              "29990    2000.0                           0  \n",
              "29991       0.0                           1  \n",
              "29992       0.0                           0  \n",
              "29993    2000.0                           0  \n",
              "29994    4000.0                           1  \n",
              "29995    1000.0                           0  \n",
              "29996       0.0                           0  \n",
              "29997    3100.0                           1  \n",
              "29998    1804.0                           1  \n",
              "29999    1000.0                           1  "
            ],
            "text/html": [
              "\n",
              "  <div id=\"df-ba9c97fd-41cf-48da-9099-6c84fe320a2a\">\n",
              "    <div class=\"colab-df-container\">\n",
              "      <div>\n",
              "<style scoped>\n",
              "    .dataframe tbody tr th:only-of-type {\n",
              "        vertical-align: middle;\n",
              "    }\n",
              "\n",
              "    .dataframe tbody tr th {\n",
              "        vertical-align: top;\n",
              "    }\n",
              "\n",
              "    .dataframe thead th {\n",
              "        text-align: right;\n",
              "    }\n",
              "</style>\n",
              "<table border=\"1\" class=\"dataframe\">\n",
              "  <thead>\n",
              "    <tr style=\"text-align: right;\">\n",
              "      <th></th>\n",
              "      <th>ID</th>\n",
              "      <th>LIMIT_BAL</th>\n",
              "      <th>SEX</th>\n",
              "      <th>EDUCATION</th>\n",
              "      <th>MARRIAGE</th>\n",
              "      <th>AGE</th>\n",
              "      <th>PAY_0</th>\n",
              "      <th>PAY_2</th>\n",
              "      <th>PAY_3</th>\n",
              "      <th>PAY_4</th>\n",
              "      <th>PAY_5</th>\n",
              "      <th>PAY_6</th>\n",
              "      <th>BILL_AMT1</th>\n",
              "      <th>BILL_AMT2</th>\n",
              "      <th>BILL_AMT3</th>\n",
              "      <th>BILL_AMT4</th>\n",
              "      <th>BILL_AMT5</th>\n",
              "      <th>BILL_AMT6</th>\n",
              "      <th>PAY_AMT1</th>\n",
              "      <th>PAY_AMT2</th>\n",
              "      <th>PAY_AMT3</th>\n",
              "      <th>PAY_AMT4</th>\n",
              "      <th>PAY_AMT5</th>\n",
              "      <th>PAY_AMT6</th>\n",
              "      <th>default.payment.next.month</th>\n",
              "    </tr>\n",
              "  </thead>\n",
              "  <tbody>\n",
              "    <tr>\n",
              "      <th>29990</th>\n",
              "      <td>29991</td>\n",
              "      <td>140000.0</td>\n",
              "      <td>1</td>\n",
              "      <td>2</td>\n",
              "      <td>1</td>\n",
              "      <td>41</td>\n",
              "      <td>0</td>\n",
              "      <td>0</td>\n",
              "      <td>0</td>\n",
              "      <td>0</td>\n",
              "      <td>0</td>\n",
              "      <td>0</td>\n",
              "      <td>138325.0</td>\n",
              "      <td>137142.0</td>\n",
              "      <td>139110.0</td>\n",
              "      <td>138262.0</td>\n",
              "      <td>49675.0</td>\n",
              "      <td>46121.0</td>\n",
              "      <td>6000.0</td>\n",
              "      <td>7000.0</td>\n",
              "      <td>4228.0</td>\n",
              "      <td>1505.0</td>\n",
              "      <td>2000.0</td>\n",
              "      <td>2000.0</td>\n",
              "      <td>0</td>\n",
              "    </tr>\n",
              "    <tr>\n",
              "      <th>29991</th>\n",
              "      <td>29992</td>\n",
              "      <td>210000.0</td>\n",
              "      <td>1</td>\n",
              "      <td>2</td>\n",
              "      <td>1</td>\n",
              "      <td>34</td>\n",
              "      <td>3</td>\n",
              "      <td>2</td>\n",
              "      <td>2</td>\n",
              "      <td>2</td>\n",
              "      <td>2</td>\n",
              "      <td>2</td>\n",
              "      <td>2500.0</td>\n",
              "      <td>2500.0</td>\n",
              "      <td>2500.0</td>\n",
              "      <td>2500.0</td>\n",
              "      <td>2500.0</td>\n",
              "      <td>2500.0</td>\n",
              "      <td>0.0</td>\n",
              "      <td>0.0</td>\n",
              "      <td>0.0</td>\n",
              "      <td>0.0</td>\n",
              "      <td>0.0</td>\n",
              "      <td>0.0</td>\n",
              "      <td>1</td>\n",
              "    </tr>\n",
              "    <tr>\n",
              "      <th>29992</th>\n",
              "      <td>29993</td>\n",
              "      <td>10000.0</td>\n",
              "      <td>1</td>\n",
              "      <td>3</td>\n",
              "      <td>1</td>\n",
              "      <td>43</td>\n",
              "      <td>0</td>\n",
              "      <td>0</td>\n",
              "      <td>0</td>\n",
              "      <td>-2</td>\n",
              "      <td>-2</td>\n",
              "      <td>-2</td>\n",
              "      <td>8802.0</td>\n",
              "      <td>10400.0</td>\n",
              "      <td>0.0</td>\n",
              "      <td>0.0</td>\n",
              "      <td>0.0</td>\n",
              "      <td>0.0</td>\n",
              "      <td>2000.0</td>\n",
              "      <td>0.0</td>\n",
              "      <td>0.0</td>\n",
              "      <td>0.0</td>\n",
              "      <td>0.0</td>\n",
              "      <td>0.0</td>\n",
              "      <td>0</td>\n",
              "    </tr>\n",
              "    <tr>\n",
              "      <th>29993</th>\n",
              "      <td>29994</td>\n",
              "      <td>100000.0</td>\n",
              "      <td>1</td>\n",
              "      <td>1</td>\n",
              "      <td>2</td>\n",
              "      <td>38</td>\n",
              "      <td>0</td>\n",
              "      <td>-1</td>\n",
              "      <td>-1</td>\n",
              "      <td>0</td>\n",
              "      <td>0</td>\n",
              "      <td>0</td>\n",
              "      <td>3042.0</td>\n",
              "      <td>1427.0</td>\n",
              "      <td>102996.0</td>\n",
              "      <td>70626.0</td>\n",
              "      <td>69473.0</td>\n",
              "      <td>55004.0</td>\n",
              "      <td>2000.0</td>\n",
              "      <td>111784.0</td>\n",
              "      <td>4000.0</td>\n",
              "      <td>3000.0</td>\n",
              "      <td>2000.0</td>\n",
              "      <td>2000.0</td>\n",
              "      <td>0</td>\n",
              "    </tr>\n",
              "    <tr>\n",
              "      <th>29994</th>\n",
              "      <td>29995</td>\n",
              "      <td>80000.0</td>\n",
              "      <td>1</td>\n",
              "      <td>2</td>\n",
              "      <td>2</td>\n",
              "      <td>34</td>\n",
              "      <td>2</td>\n",
              "      <td>2</td>\n",
              "      <td>2</td>\n",
              "      <td>2</td>\n",
              "      <td>2</td>\n",
              "      <td>2</td>\n",
              "      <td>72557.0</td>\n",
              "      <td>77708.0</td>\n",
              "      <td>79384.0</td>\n",
              "      <td>77519.0</td>\n",
              "      <td>82607.0</td>\n",
              "      <td>81158.0</td>\n",
              "      <td>7000.0</td>\n",
              "      <td>3500.0</td>\n",
              "      <td>0.0</td>\n",
              "      <td>7000.0</td>\n",
              "      <td>0.0</td>\n",
              "      <td>4000.0</td>\n",
              "      <td>1</td>\n",
              "    </tr>\n",
              "    <tr>\n",
              "      <th>29995</th>\n",
              "      <td>29996</td>\n",
              "      <td>220000.0</td>\n",
              "      <td>1</td>\n",
              "      <td>3</td>\n",
              "      <td>1</td>\n",
              "      <td>39</td>\n",
              "      <td>0</td>\n",
              "      <td>0</td>\n",
              "      <td>0</td>\n",
              "      <td>0</td>\n",
              "      <td>0</td>\n",
              "      <td>0</td>\n",
              "      <td>188948.0</td>\n",
              "      <td>192815.0</td>\n",
              "      <td>208365.0</td>\n",
              "      <td>88004.0</td>\n",
              "      <td>31237.0</td>\n",
              "      <td>15980.0</td>\n",
              "      <td>8500.0</td>\n",
              "      <td>20000.0</td>\n",
              "      <td>5003.0</td>\n",
              "      <td>3047.0</td>\n",
              "      <td>5000.0</td>\n",
              "      <td>1000.0</td>\n",
              "      <td>0</td>\n",
              "    </tr>\n",
              "    <tr>\n",
              "      <th>29996</th>\n",
              "      <td>29997</td>\n",
              "      <td>150000.0</td>\n",
              "      <td>1</td>\n",
              "      <td>3</td>\n",
              "      <td>2</td>\n",
              "      <td>43</td>\n",
              "      <td>-1</td>\n",
              "      <td>-1</td>\n",
              "      <td>-1</td>\n",
              "      <td>-1</td>\n",
              "      <td>0</td>\n",
              "      <td>0</td>\n",
              "      <td>1683.0</td>\n",
              "      <td>1828.0</td>\n",
              "      <td>3502.0</td>\n",
              "      <td>8979.0</td>\n",
              "      <td>5190.0</td>\n",
              "      <td>0.0</td>\n",
              "      <td>1837.0</td>\n",
              "      <td>3526.0</td>\n",
              "      <td>8998.0</td>\n",
              "      <td>129.0</td>\n",
              "      <td>0.0</td>\n",
              "      <td>0.0</td>\n",
              "      <td>0</td>\n",
              "    </tr>\n",
              "    <tr>\n",
              "      <th>29997</th>\n",
              "      <td>29998</td>\n",
              "      <td>30000.0</td>\n",
              "      <td>1</td>\n",
              "      <td>2</td>\n",
              "      <td>2</td>\n",
              "      <td>37</td>\n",
              "      <td>4</td>\n",
              "      <td>3</td>\n",
              "      <td>2</td>\n",
              "      <td>-1</td>\n",
              "      <td>0</td>\n",
              "      <td>0</td>\n",
              "      <td>3565.0</td>\n",
              "      <td>3356.0</td>\n",
              "      <td>2758.0</td>\n",
              "      <td>20878.0</td>\n",
              "      <td>20582.0</td>\n",
              "      <td>19357.0</td>\n",
              "      <td>0.0</td>\n",
              "      <td>0.0</td>\n",
              "      <td>22000.0</td>\n",
              "      <td>4200.0</td>\n",
              "      <td>2000.0</td>\n",
              "      <td>3100.0</td>\n",
              "      <td>1</td>\n",
              "    </tr>\n",
              "    <tr>\n",
              "      <th>29998</th>\n",
              "      <td>29999</td>\n",
              "      <td>80000.0</td>\n",
              "      <td>1</td>\n",
              "      <td>3</td>\n",
              "      <td>1</td>\n",
              "      <td>41</td>\n",
              "      <td>1</td>\n",
              "      <td>-1</td>\n",
              "      <td>0</td>\n",
              "      <td>0</td>\n",
              "      <td>0</td>\n",
              "      <td>-1</td>\n",
              "      <td>-1645.0</td>\n",
              "      <td>78379.0</td>\n",
              "      <td>76304.0</td>\n",
              "      <td>52774.0</td>\n",
              "      <td>11855.0</td>\n",
              "      <td>48944.0</td>\n",
              "      <td>85900.0</td>\n",
              "      <td>3409.0</td>\n",
              "      <td>1178.0</td>\n",
              "      <td>1926.0</td>\n",
              "      <td>52964.0</td>\n",
              "      <td>1804.0</td>\n",
              "      <td>1</td>\n",
              "    </tr>\n",
              "    <tr>\n",
              "      <th>29999</th>\n",
              "      <td>30000</td>\n",
              "      <td>50000.0</td>\n",
              "      <td>1</td>\n",
              "      <td>2</td>\n",
              "      <td>1</td>\n",
              "      <td>46</td>\n",
              "      <td>0</td>\n",
              "      <td>0</td>\n",
              "      <td>0</td>\n",
              "      <td>0</td>\n",
              "      <td>0</td>\n",
              "      <td>0</td>\n",
              "      <td>47929.0</td>\n",
              "      <td>48905.0</td>\n",
              "      <td>49764.0</td>\n",
              "      <td>36535.0</td>\n",
              "      <td>32428.0</td>\n",
              "      <td>15313.0</td>\n",
              "      <td>2078.0</td>\n",
              "      <td>1800.0</td>\n",
              "      <td>1430.0</td>\n",
              "      <td>1000.0</td>\n",
              "      <td>1000.0</td>\n",
              "      <td>1000.0</td>\n",
              "      <td>1</td>\n",
              "    </tr>\n",
              "  </tbody>\n",
              "</table>\n",
              "</div>\n",
              "      <button class=\"colab-df-convert\" onclick=\"convertToInteractive('df-ba9c97fd-41cf-48da-9099-6c84fe320a2a')\"\n",
              "              title=\"Convert this dataframe to an interactive table.\"\n",
              "              style=\"display:none;\">\n",
              "        \n",
              "  <svg xmlns=\"http://www.w3.org/2000/svg\" height=\"24px\"viewBox=\"0 0 24 24\"\n",
              "       width=\"24px\">\n",
              "    <path d=\"M0 0h24v24H0V0z\" fill=\"none\"/>\n",
              "    <path d=\"M18.56 5.44l.94 2.06.94-2.06 2.06-.94-2.06-.94-.94-2.06-.94 2.06-2.06.94zm-11 1L8.5 8.5l.94-2.06 2.06-.94-2.06-.94L8.5 2.5l-.94 2.06-2.06.94zm10 10l.94 2.06.94-2.06 2.06-.94-2.06-.94-.94-2.06-.94 2.06-2.06.94z\"/><path d=\"M17.41 7.96l-1.37-1.37c-.4-.4-.92-.59-1.43-.59-.52 0-1.04.2-1.43.59L10.3 9.45l-7.72 7.72c-.78.78-.78 2.05 0 2.83L4 21.41c.39.39.9.59 1.41.59.51 0 1.02-.2 1.41-.59l7.78-7.78 2.81-2.81c.8-.78.8-2.07 0-2.86zM5.41 20L4 18.59l7.72-7.72 1.47 1.35L5.41 20z\"/>\n",
              "  </svg>\n",
              "      </button>\n",
              "      \n",
              "  <style>\n",
              "    .colab-df-container {\n",
              "      display:flex;\n",
              "      flex-wrap:wrap;\n",
              "      gap: 12px;\n",
              "    }\n",
              "\n",
              "    .colab-df-convert {\n",
              "      background-color: #E8F0FE;\n",
              "      border: none;\n",
              "      border-radius: 50%;\n",
              "      cursor: pointer;\n",
              "      display: none;\n",
              "      fill: #1967D2;\n",
              "      height: 32px;\n",
              "      padding: 0 0 0 0;\n",
              "      width: 32px;\n",
              "    }\n",
              "\n",
              "    .colab-df-convert:hover {\n",
              "      background-color: #E2EBFA;\n",
              "      box-shadow: 0px 1px 2px rgba(60, 64, 67, 0.3), 0px 1px 3px 1px rgba(60, 64, 67, 0.15);\n",
              "      fill: #174EA6;\n",
              "    }\n",
              "\n",
              "    [theme=dark] .colab-df-convert {\n",
              "      background-color: #3B4455;\n",
              "      fill: #D2E3FC;\n",
              "    }\n",
              "\n",
              "    [theme=dark] .colab-df-convert:hover {\n",
              "      background-color: #434B5C;\n",
              "      box-shadow: 0px 1px 3px 1px rgba(0, 0, 0, 0.15);\n",
              "      filter: drop-shadow(0px 1px 2px rgba(0, 0, 0, 0.3));\n",
              "      fill: #FFFFFF;\n",
              "    }\n",
              "  </style>\n",
              "\n",
              "      <script>\n",
              "        const buttonEl =\n",
              "          document.querySelector('#df-ba9c97fd-41cf-48da-9099-6c84fe320a2a button.colab-df-convert');\n",
              "        buttonEl.style.display =\n",
              "          google.colab.kernel.accessAllowed ? 'block' : 'none';\n",
              "\n",
              "        async function convertToInteractive(key) {\n",
              "          const element = document.querySelector('#df-ba9c97fd-41cf-48da-9099-6c84fe320a2a');\n",
              "          const dataTable =\n",
              "            await google.colab.kernel.invokeFunction('convertToInteractive',\n",
              "                                                     [key], {});\n",
              "          if (!dataTable) return;\n",
              "\n",
              "          const docLinkHtml = 'Like what you see? Visit the ' +\n",
              "            '<a target=\"_blank\" href=https://colab.research.google.com/notebooks/data_table.ipynb>data table notebook</a>'\n",
              "            + ' to learn more about interactive tables.';\n",
              "          element.innerHTML = '';\n",
              "          dataTable['output_type'] = 'display_data';\n",
              "          await google.colab.output.renderOutput(dataTable, element);\n",
              "          const docLink = document.createElement('div');\n",
              "          docLink.innerHTML = docLinkHtml;\n",
              "          element.appendChild(docLink);\n",
              "        }\n",
              "      </script>\n",
              "    </div>\n",
              "  </div>\n",
              "  "
            ]
          },
          "metadata": {},
          "execution_count": 23
        }
      ]
    },
    {
      "cell_type": "code",
      "source": [
        "## Variables de Datframe"
      ],
      "metadata": {
        "id": "WG6ynAabL3FX"
      },
      "execution_count": 24,
      "outputs": []
    },
    {
      "cell_type": "code",
      "source": [
        "df.columns.to_list()"
      ],
      "metadata": {
        "colab": {
          "base_uri": "https://localhost:8080/"
        },
        "id": "ejO5ZmWwMG3Y",
        "outputId": "78a6b84a-60da-43b9-9e59-a85a5e44ce95"
      },
      "execution_count": 25,
      "outputs": [
        {
          "output_type": "execute_result",
          "data": {
            "text/plain": [
              "['ID',\n",
              " 'LIMIT_BAL',\n",
              " 'SEX',\n",
              " 'EDUCATION',\n",
              " 'MARRIAGE',\n",
              " 'AGE',\n",
              " 'PAY_0',\n",
              " 'PAY_2',\n",
              " 'PAY_3',\n",
              " 'PAY_4',\n",
              " 'PAY_5',\n",
              " 'PAY_6',\n",
              " 'BILL_AMT1',\n",
              " 'BILL_AMT2',\n",
              " 'BILL_AMT3',\n",
              " 'BILL_AMT4',\n",
              " 'BILL_AMT5',\n",
              " 'BILL_AMT6',\n",
              " 'PAY_AMT1',\n",
              " 'PAY_AMT2',\n",
              " 'PAY_AMT3',\n",
              " 'PAY_AMT4',\n",
              " 'PAY_AMT5',\n",
              " 'PAY_AMT6',\n",
              " 'default.payment.next.month']"
            ]
          },
          "metadata": {},
          "execution_count": 25
        }
      ]
    },
    {
      "cell_type": "markdown",
      "source": [
        "# **3) Depuración BD**"
      ],
      "metadata": {
        "id": "Nf1-lVeEMxfF"
      }
    },
    {
      "cell_type": "markdown",
      "source": [
        "## **Renombrar Variables**"
      ],
      "metadata": {
        "id": "5o8mQIoXNAZy"
      }
    },
    {
      "cell_type": "code",
      "source": [
        "df.rename(columns={\"LIMIT_BAL\":\"ValorCredito\",\n",
        "                   \"SEX\":\"Genero\",\n",
        "                   \"EDUCATION\":\"Edudacion\",\n",
        "                   'MARRIAGE':\"EstadoCivil\",\n",
        "                   \"AGE\":\"Edad\",\n",
        "                   'default.payment.next.month':\"Mora\"},inplace=True)"
      ],
      "metadata": {
        "id": "Mwsg0t55MKSp"
      },
      "execution_count": 26,
      "outputs": []
    },
    {
      "cell_type": "code",
      "source": [
        "df.head(3)"
      ],
      "metadata": {
        "colab": {
          "base_uri": "https://localhost:8080/",
          "height": 207
        },
        "id": "FZLaQC1sN2CE",
        "outputId": "715d738f-1af0-45d6-8dd0-6bc6a2beca21"
      },
      "execution_count": 27,
      "outputs": [
        {
          "output_type": "execute_result",
          "data": {
            "text/plain": [
              "   ID  ValorCredito  Genero  Edudacion  EstadoCivil  Edad  PAY_0  PAY_2  \\\n",
              "0   1       20000.0       2          2            1    24      2      2   \n",
              "1   2      120000.0       2          2            2    26     -1      2   \n",
              "2   3       90000.0       2          2            2    34      0      0   \n",
              "\n",
              "   PAY_3  PAY_4  PAY_5  PAY_6  BILL_AMT1  BILL_AMT2  BILL_AMT3  BILL_AMT4  \\\n",
              "0     -1     -1     -2     -2     3913.0     3102.0      689.0        0.0   \n",
              "1      0      0      0      2     2682.0     1725.0     2682.0     3272.0   \n",
              "2      0      0      0      0    29239.0    14027.0    13559.0    14331.0   \n",
              "\n",
              "   BILL_AMT5  BILL_AMT6  PAY_AMT1  PAY_AMT2  PAY_AMT3  PAY_AMT4  PAY_AMT5  \\\n",
              "0        0.0        0.0       0.0     689.0       0.0       0.0       0.0   \n",
              "1     3455.0     3261.0       0.0    1000.0    1000.0    1000.0       0.0   \n",
              "2    14948.0    15549.0    1518.0    1500.0    1000.0    1000.0    1000.0   \n",
              "\n",
              "   PAY_AMT6  Mora  \n",
              "0       0.0     1  \n",
              "1    2000.0     1  \n",
              "2    5000.0     0  "
            ],
            "text/html": [
              "\n",
              "  <div id=\"df-380bb78a-b8bb-4005-b57c-2df2bb730d5a\">\n",
              "    <div class=\"colab-df-container\">\n",
              "      <div>\n",
              "<style scoped>\n",
              "    .dataframe tbody tr th:only-of-type {\n",
              "        vertical-align: middle;\n",
              "    }\n",
              "\n",
              "    .dataframe tbody tr th {\n",
              "        vertical-align: top;\n",
              "    }\n",
              "\n",
              "    .dataframe thead th {\n",
              "        text-align: right;\n",
              "    }\n",
              "</style>\n",
              "<table border=\"1\" class=\"dataframe\">\n",
              "  <thead>\n",
              "    <tr style=\"text-align: right;\">\n",
              "      <th></th>\n",
              "      <th>ID</th>\n",
              "      <th>ValorCredito</th>\n",
              "      <th>Genero</th>\n",
              "      <th>Edudacion</th>\n",
              "      <th>EstadoCivil</th>\n",
              "      <th>Edad</th>\n",
              "      <th>PAY_0</th>\n",
              "      <th>PAY_2</th>\n",
              "      <th>PAY_3</th>\n",
              "      <th>PAY_4</th>\n",
              "      <th>PAY_5</th>\n",
              "      <th>PAY_6</th>\n",
              "      <th>BILL_AMT1</th>\n",
              "      <th>BILL_AMT2</th>\n",
              "      <th>BILL_AMT3</th>\n",
              "      <th>BILL_AMT4</th>\n",
              "      <th>BILL_AMT5</th>\n",
              "      <th>BILL_AMT6</th>\n",
              "      <th>PAY_AMT1</th>\n",
              "      <th>PAY_AMT2</th>\n",
              "      <th>PAY_AMT3</th>\n",
              "      <th>PAY_AMT4</th>\n",
              "      <th>PAY_AMT5</th>\n",
              "      <th>PAY_AMT6</th>\n",
              "      <th>Mora</th>\n",
              "    </tr>\n",
              "  </thead>\n",
              "  <tbody>\n",
              "    <tr>\n",
              "      <th>0</th>\n",
              "      <td>1</td>\n",
              "      <td>20000.0</td>\n",
              "      <td>2</td>\n",
              "      <td>2</td>\n",
              "      <td>1</td>\n",
              "      <td>24</td>\n",
              "      <td>2</td>\n",
              "      <td>2</td>\n",
              "      <td>-1</td>\n",
              "      <td>-1</td>\n",
              "      <td>-2</td>\n",
              "      <td>-2</td>\n",
              "      <td>3913.0</td>\n",
              "      <td>3102.0</td>\n",
              "      <td>689.0</td>\n",
              "      <td>0.0</td>\n",
              "      <td>0.0</td>\n",
              "      <td>0.0</td>\n",
              "      <td>0.0</td>\n",
              "      <td>689.0</td>\n",
              "      <td>0.0</td>\n",
              "      <td>0.0</td>\n",
              "      <td>0.0</td>\n",
              "      <td>0.0</td>\n",
              "      <td>1</td>\n",
              "    </tr>\n",
              "    <tr>\n",
              "      <th>1</th>\n",
              "      <td>2</td>\n",
              "      <td>120000.0</td>\n",
              "      <td>2</td>\n",
              "      <td>2</td>\n",
              "      <td>2</td>\n",
              "      <td>26</td>\n",
              "      <td>-1</td>\n",
              "      <td>2</td>\n",
              "      <td>0</td>\n",
              "      <td>0</td>\n",
              "      <td>0</td>\n",
              "      <td>2</td>\n",
              "      <td>2682.0</td>\n",
              "      <td>1725.0</td>\n",
              "      <td>2682.0</td>\n",
              "      <td>3272.0</td>\n",
              "      <td>3455.0</td>\n",
              "      <td>3261.0</td>\n",
              "      <td>0.0</td>\n",
              "      <td>1000.0</td>\n",
              "      <td>1000.0</td>\n",
              "      <td>1000.0</td>\n",
              "      <td>0.0</td>\n",
              "      <td>2000.0</td>\n",
              "      <td>1</td>\n",
              "    </tr>\n",
              "    <tr>\n",
              "      <th>2</th>\n",
              "      <td>3</td>\n",
              "      <td>90000.0</td>\n",
              "      <td>2</td>\n",
              "      <td>2</td>\n",
              "      <td>2</td>\n",
              "      <td>34</td>\n",
              "      <td>0</td>\n",
              "      <td>0</td>\n",
              "      <td>0</td>\n",
              "      <td>0</td>\n",
              "      <td>0</td>\n",
              "      <td>0</td>\n",
              "      <td>29239.0</td>\n",
              "      <td>14027.0</td>\n",
              "      <td>13559.0</td>\n",
              "      <td>14331.0</td>\n",
              "      <td>14948.0</td>\n",
              "      <td>15549.0</td>\n",
              "      <td>1518.0</td>\n",
              "      <td>1500.0</td>\n",
              "      <td>1000.0</td>\n",
              "      <td>1000.0</td>\n",
              "      <td>1000.0</td>\n",
              "      <td>5000.0</td>\n",
              "      <td>0</td>\n",
              "    </tr>\n",
              "  </tbody>\n",
              "</table>\n",
              "</div>\n",
              "      <button class=\"colab-df-convert\" onclick=\"convertToInteractive('df-380bb78a-b8bb-4005-b57c-2df2bb730d5a')\"\n",
              "              title=\"Convert this dataframe to an interactive table.\"\n",
              "              style=\"display:none;\">\n",
              "        \n",
              "  <svg xmlns=\"http://www.w3.org/2000/svg\" height=\"24px\"viewBox=\"0 0 24 24\"\n",
              "       width=\"24px\">\n",
              "    <path d=\"M0 0h24v24H0V0z\" fill=\"none\"/>\n",
              "    <path d=\"M18.56 5.44l.94 2.06.94-2.06 2.06-.94-2.06-.94-.94-2.06-.94 2.06-2.06.94zm-11 1L8.5 8.5l.94-2.06 2.06-.94-2.06-.94L8.5 2.5l-.94 2.06-2.06.94zm10 10l.94 2.06.94-2.06 2.06-.94-2.06-.94-.94-2.06-.94 2.06-2.06.94z\"/><path d=\"M17.41 7.96l-1.37-1.37c-.4-.4-.92-.59-1.43-.59-.52 0-1.04.2-1.43.59L10.3 9.45l-7.72 7.72c-.78.78-.78 2.05 0 2.83L4 21.41c.39.39.9.59 1.41.59.51 0 1.02-.2 1.41-.59l7.78-7.78 2.81-2.81c.8-.78.8-2.07 0-2.86zM5.41 20L4 18.59l7.72-7.72 1.47 1.35L5.41 20z\"/>\n",
              "  </svg>\n",
              "      </button>\n",
              "      \n",
              "  <style>\n",
              "    .colab-df-container {\n",
              "      display:flex;\n",
              "      flex-wrap:wrap;\n",
              "      gap: 12px;\n",
              "    }\n",
              "\n",
              "    .colab-df-convert {\n",
              "      background-color: #E8F0FE;\n",
              "      border: none;\n",
              "      border-radius: 50%;\n",
              "      cursor: pointer;\n",
              "      display: none;\n",
              "      fill: #1967D2;\n",
              "      height: 32px;\n",
              "      padding: 0 0 0 0;\n",
              "      width: 32px;\n",
              "    }\n",
              "\n",
              "    .colab-df-convert:hover {\n",
              "      background-color: #E2EBFA;\n",
              "      box-shadow: 0px 1px 2px rgba(60, 64, 67, 0.3), 0px 1px 3px 1px rgba(60, 64, 67, 0.15);\n",
              "      fill: #174EA6;\n",
              "    }\n",
              "\n",
              "    [theme=dark] .colab-df-convert {\n",
              "      background-color: #3B4455;\n",
              "      fill: #D2E3FC;\n",
              "    }\n",
              "\n",
              "    [theme=dark] .colab-df-convert:hover {\n",
              "      background-color: #434B5C;\n",
              "      box-shadow: 0px 1px 3px 1px rgba(0, 0, 0, 0.15);\n",
              "      filter: drop-shadow(0px 1px 2px rgba(0, 0, 0, 0.3));\n",
              "      fill: #FFFFFF;\n",
              "    }\n",
              "  </style>\n",
              "\n",
              "      <script>\n",
              "        const buttonEl =\n",
              "          document.querySelector('#df-380bb78a-b8bb-4005-b57c-2df2bb730d5a button.colab-df-convert');\n",
              "        buttonEl.style.display =\n",
              "          google.colab.kernel.accessAllowed ? 'block' : 'none';\n",
              "\n",
              "        async function convertToInteractive(key) {\n",
              "          const element = document.querySelector('#df-380bb78a-b8bb-4005-b57c-2df2bb730d5a');\n",
              "          const dataTable =\n",
              "            await google.colab.kernel.invokeFunction('convertToInteractive',\n",
              "                                                     [key], {});\n",
              "          if (!dataTable) return;\n",
              "\n",
              "          const docLinkHtml = 'Like what you see? Visit the ' +\n",
              "            '<a target=\"_blank\" href=https://colab.research.google.com/notebooks/data_table.ipynb>data table notebook</a>'\n",
              "            + ' to learn more about interactive tables.';\n",
              "          element.innerHTML = '';\n",
              "          dataTable['output_type'] = 'display_data';\n",
              "          await google.colab.output.renderOutput(dataTable, element);\n",
              "          const docLink = document.createElement('div');\n",
              "          docLink.innerHTML = docLinkHtml;\n",
              "          element.appendChild(docLink);\n",
              "        }\n",
              "      </script>\n",
              "    </div>\n",
              "  </div>\n",
              "  "
            ]
          },
          "metadata": {},
          "execution_count": 27
        }
      ]
    },
    {
      "cell_type": "markdown",
      "source": [
        "## **Creación Nuevas Variables**"
      ],
      "metadata": {
        "id": "Mr6gyJ_DR0Ug"
      }
    },
    {
      "cell_type": "markdown",
      "source": [
        "### **Extructura de Control**\n",
        "\n",
        "* If Else"
      ],
      "metadata": {
        "id": "-N4b_eLqSCdw"
      }
    },
    {
      "cell_type": "code",
      "source": [
        "Edad=df.Edad[0] ## Un Solo Cliente\n",
        "print(Edad)"
      ],
      "metadata": {
        "colab": {
          "base_uri": "https://localhost:8080/"
        },
        "id": "REahoDYVN3iD",
        "outputId": "647bf0da-8ec4-4c2a-a2ee-910cb97cb125"
      },
      "execution_count": 51,
      "outputs": [
        {
          "output_type": "stream",
          "name": "stdout",
          "text": [
            "24\n"
          ]
        }
      ]
    },
    {
      "cell_type": "code",
      "source": [
        "if (Edad >= 18):\n",
        "  GrupoPoblacional=\"MayorEdad\"\n",
        "else:\n",
        "  GrupoPoblacional=\"MenorEdad\""
      ],
      "metadata": {
        "id": "jSWVvuH9SPb7"
      },
      "execution_count": 52,
      "outputs": []
    },
    {
      "cell_type": "code",
      "source": [
        "GrupoPoblacional"
      ],
      "metadata": {
        "colab": {
          "base_uri": "https://localhost:8080/",
          "height": 36
        },
        "id": "1_NmORvSTCwx",
        "outputId": "863c0a96-d678-4cc0-a1e4-47b3800a0ec5"
      },
      "execution_count": 53,
      "outputs": [
        {
          "output_type": "execute_result",
          "data": {
            "text/plain": [
              "'MayorEdad'"
            ],
            "application/vnd.google.colaboratory.intrinsic+json": {
              "type": "string"
            }
          },
          "metadata": {},
          "execution_count": 53
        }
      ]
    },
    {
      "cell_type": "code",
      "source": [
        "## Mas Condiciones"
      ],
      "metadata": {
        "id": "ttzzIZmbTEEB"
      },
      "execution_count": 54,
      "outputs": []
    },
    {
      "cell_type": "code",
      "source": [
        "if (Edad >= 18 and Edad <=30):\n",
        "  GrupoPoblacional=\"Joven\"\n",
        "elif (Edad > 30 and Edad <=60):\n",
        "  GrupoPoblacional=\"Adulto\"\n",
        "elif (Edad > 60 and Edad <=110):\n",
        "  GrupoPoblacional=\"AdultoMayor\"\n",
        "elif (Edad > 110):\n",
        "  GrupoPoblacional=\"ValidarAdultoMayor\"\n",
        "else:\n",
        "  GrupoPoblacional=\"ValidarMenorEdad\""
      ],
      "metadata": {
        "id": "lCjYl-XuTQay"
      },
      "execution_count": 55,
      "outputs": []
    },
    {
      "cell_type": "code",
      "source": [
        "GrupoPoblacional"
      ],
      "metadata": {
        "colab": {
          "base_uri": "https://localhost:8080/",
          "height": 36
        },
        "id": "5ekkRZFVUM9V",
        "outputId": "288bef21-3ca2-430c-af55-648b52fa5712"
      },
      "execution_count": 56,
      "outputs": [
        {
          "output_type": "execute_result",
          "data": {
            "text/plain": [
              "'Joven'"
            ],
            "application/vnd.google.colaboratory.intrinsic+json": {
              "type": "string"
            }
          },
          "metadata": {},
          "execution_count": 56
        }
      ]
    },
    {
      "cell_type": "markdown",
      "source": [
        "## **Funciones**\n",
        "\n",
        "Una función te permite definir un bloque de código reutilizable que se puede ejecutar muchas veces dentro de tu programa.\n",
        "\n",
        "En Python, una definición de función tiene las siguientes características:\n",
        "\n",
        "* La palabra clave def\n",
        "* Un nombre de función\n",
        "* Paréntesis ’()’, y dentro de los paréntesis los parámetros de entrada, aunque los parámetros de entrada sean opcionales.\n",
        "* Dos puntos ’:’\n",
        "* Algún bloque de código para ejecutar\n",
        "* Una sentencia de retorno (opcional)"
      ],
      "metadata": {
        "id": "TYhzFcdnU5y4"
      }
    },
    {
      "cell_type": "code",
      "source": [
        "def SumaDosNumeros(x,y=1):\n",
        "  suma=x+y\n",
        "  return suma"
      ],
      "metadata": {
        "id": "lfkNkohdVgVh"
      },
      "execution_count": 70,
      "outputs": []
    },
    {
      "cell_type": "code",
      "source": [
        "SumaDosNumeros(5,89)"
      ],
      "metadata": {
        "colab": {
          "base_uri": "https://localhost:8080/"
        },
        "id": "BP-kM8qDV2ZX",
        "outputId": "13d886a8-930d-4b2d-d85c-492962f174d6"
      },
      "execution_count": 73,
      "outputs": [
        {
          "output_type": "execute_result",
          "data": {
            "text/plain": [
              "94"
            ]
          },
          "metadata": {},
          "execution_count": 73
        }
      ]
    },
    {
      "cell_type": "code",
      "source": [
        "SumaDosNumeros(5,56)"
      ],
      "metadata": {
        "colab": {
          "base_uri": "https://localhost:8080/"
        },
        "id": "cTzxw2y-V6NW",
        "outputId": "2b017cef-a1c6-424d-dabc-63224448ad22"
      },
      "execution_count": 74,
      "outputs": [
        {
          "output_type": "execute_result",
          "data": {
            "text/plain": [
              "61"
            ]
          },
          "metadata": {},
          "execution_count": 74
        }
      ]
    },
    {
      "cell_type": "code",
      "source": [
        "def CalculoRangoPoblacional(Edad):\n",
        "  if (Edad >= 18 and Edad <=30):\n",
        "    GrupoPoblacional=\"Joven\"\n",
        "  elif (Edad > 30 and Edad <=60):\n",
        "    GrupoPoblacional=\"Adulto\"\n",
        "  elif (Edad > 60 and Edad <=110):\n",
        "    GrupoPoblacional=\"AdultoMayor\"\n",
        "  elif (Edad > 110):\n",
        "    GrupoPoblacional=\"ValidarAdultoMayor\"\n",
        "  else:\n",
        "    GrupoPoblacional=\"ValidarMenorEdad\"\n",
        "  return GrupoPoblacional"
      ],
      "metadata": {
        "id": "wCCxjC8qV8sn"
      },
      "execution_count": 75,
      "outputs": []
    },
    {
      "cell_type": "code",
      "source": [
        "CalculoRangoPoblacional(8)"
      ],
      "metadata": {
        "colab": {
          "base_uri": "https://localhost:8080/",
          "height": 36
        },
        "id": "OxFPp2jkWe94",
        "outputId": "b584f42d-52e9-4bd3-9bc8-7eaa2c46bb84"
      },
      "execution_count": 76,
      "outputs": [
        {
          "output_type": "execute_result",
          "data": {
            "text/plain": [
              "'ValidarMenorEdad'"
            ],
            "application/vnd.google.colaboratory.intrinsic+json": {
              "type": "string"
            }
          },
          "metadata": {},
          "execution_count": 76
        }
      ]
    },
    {
      "cell_type": "code",
      "source": [
        "CalculoRangoPoblacional(89)"
      ],
      "metadata": {
        "colab": {
          "base_uri": "https://localhost:8080/",
          "height": 36
        },
        "id": "k8v5fnakWo-2",
        "outputId": "12300d75-2893-4a1f-c671-e673ebb00112"
      },
      "execution_count": 77,
      "outputs": [
        {
          "output_type": "execute_result",
          "data": {
            "text/plain": [
              "'AdultoMayor'"
            ],
            "application/vnd.google.colaboratory.intrinsic+json": {
              "type": "string"
            }
          },
          "metadata": {},
          "execution_count": 77
        }
      ]
    },
    {
      "cell_type": "code",
      "source": [
        "CalculoRangoPoblacional(30)"
      ],
      "metadata": {
        "colab": {
          "base_uri": "https://localhost:8080/",
          "height": 36
        },
        "id": "uMi0kqVUWtCH",
        "outputId": "a43ebceb-ccb3-4327-f899-260a47fc54ed"
      },
      "execution_count": 78,
      "outputs": [
        {
          "output_type": "execute_result",
          "data": {
            "text/plain": [
              "'Joven'"
            ],
            "application/vnd.google.colaboratory.intrinsic+json": {
              "type": "string"
            }
          },
          "metadata": {},
          "execution_count": 78
        }
      ]
    },
    {
      "cell_type": "code",
      "source": [
        "CalculoRangoPoblacional(189)"
      ],
      "metadata": {
        "colab": {
          "base_uri": "https://localhost:8080/",
          "height": 36
        },
        "id": "OS08x_bmWuo2",
        "outputId": "1a6951b0-472d-45ab-8cbf-a9622b0fc794"
      },
      "execution_count": 79,
      "outputs": [
        {
          "output_type": "execute_result",
          "data": {
            "text/plain": [
              "'ValidarAdultoMayor'"
            ],
            "application/vnd.google.colaboratory.intrinsic+json": {
              "type": "string"
            }
          },
          "metadata": {},
          "execution_count": 79
        }
      ]
    },
    {
      "cell_type": "code",
      "source": [
        "CalculoRangoPoblacional(39)"
      ],
      "metadata": {
        "colab": {
          "base_uri": "https://localhost:8080/",
          "height": 36
        },
        "id": "Ycg_5-B9Wv7X",
        "outputId": "402cf0da-2068-442c-dc3e-3fe91a801374"
      },
      "execution_count": 80,
      "outputs": [
        {
          "output_type": "execute_result",
          "data": {
            "text/plain": [
              "'Adulto'"
            ],
            "application/vnd.google.colaboratory.intrinsic+json": {
              "type": "string"
            }
          },
          "metadata": {},
          "execution_count": 80
        }
      ]
    },
    {
      "cell_type": "code",
      "source": [
        "df.Edad.apply(CalculoRangoPoblacional) ## Aplicado NuestarFuncion a toda la Base de Datos"
      ],
      "metadata": {
        "colab": {
          "base_uri": "https://localhost:8080/"
        },
        "id": "Ln6TM1aZWzS3",
        "outputId": "9db1aafb-9d39-46e4-b488-5f94b8015f9d"
      },
      "execution_count": 83,
      "outputs": [
        {
          "output_type": "execute_result",
          "data": {
            "text/plain": [
              "0         Joven\n",
              "1         Joven\n",
              "2        Adulto\n",
              "3        Adulto\n",
              "4        Adulto\n",
              "          ...  \n",
              "29995    Adulto\n",
              "29996    Adulto\n",
              "29997    Adulto\n",
              "29998    Adulto\n",
              "29999    Adulto\n",
              "Name: Edad, Length: 30000, dtype: object"
            ]
          },
          "metadata": {},
          "execution_count": 83
        }
      ]
    },
    {
      "cell_type": "code",
      "source": [
        "## Crear la Variable Rango Poblacional en DataFrame"
      ],
      "metadata": {
        "id": "GLbtgrZpW_74"
      },
      "execution_count": 84,
      "outputs": []
    },
    {
      "cell_type": "code",
      "source": [
        "df[\"RangoPoblacional\"]=df.Edad.apply(CalculoRangoPoblacional)"
      ],
      "metadata": {
        "id": "KhaICbHrXZJn"
      },
      "execution_count": 85,
      "outputs": []
    },
    {
      "cell_type": "code",
      "source": [
        "df.head()"
      ],
      "metadata": {
        "colab": {
          "base_uri": "https://localhost:8080/",
          "height": 270
        },
        "id": "c3GV_wbKXgC3",
        "outputId": "1e9fc353-1770-4086-9076-b7a05a8d9a4e"
      },
      "execution_count": 86,
      "outputs": [
        {
          "output_type": "execute_result",
          "data": {
            "text/plain": [
              "   ID  ValorCredito  Genero  Edudacion  EstadoCivil  Edad  PAY_0  PAY_2  \\\n",
              "0   1       20000.0       2          2            1    24      2      2   \n",
              "1   2      120000.0       2          2            2    26     -1      2   \n",
              "2   3       90000.0       2          2            2    34      0      0   \n",
              "3   4       50000.0       2          2            1    37      0      0   \n",
              "4   5       50000.0       1          2            1    57     -1      0   \n",
              "\n",
              "   PAY_3  PAY_4  PAY_5  PAY_6  BILL_AMT1  BILL_AMT2  BILL_AMT3  BILL_AMT4  \\\n",
              "0     -1     -1     -2     -2     3913.0     3102.0      689.0        0.0   \n",
              "1      0      0      0      2     2682.0     1725.0     2682.0     3272.0   \n",
              "2      0      0      0      0    29239.0    14027.0    13559.0    14331.0   \n",
              "3      0      0      0      0    46990.0    48233.0    49291.0    28314.0   \n",
              "4     -1      0      0      0     8617.0     5670.0    35835.0    20940.0   \n",
              "\n",
              "   BILL_AMT5  BILL_AMT6  PAY_AMT1  PAY_AMT2  PAY_AMT3  PAY_AMT4  PAY_AMT5  \\\n",
              "0        0.0        0.0       0.0     689.0       0.0       0.0       0.0   \n",
              "1     3455.0     3261.0       0.0    1000.0    1000.0    1000.0       0.0   \n",
              "2    14948.0    15549.0    1518.0    1500.0    1000.0    1000.0    1000.0   \n",
              "3    28959.0    29547.0    2000.0    2019.0    1200.0    1100.0    1069.0   \n",
              "4    19146.0    19131.0    2000.0   36681.0   10000.0    9000.0     689.0   \n",
              "\n",
              "   PAY_AMT6  Mora RangoPoblacional  \n",
              "0       0.0     1            Joven  \n",
              "1    2000.0     1            Joven  \n",
              "2    5000.0     0           Adulto  \n",
              "3    1000.0     0           Adulto  \n",
              "4     679.0     0           Adulto  "
            ],
            "text/html": [
              "\n",
              "  <div id=\"df-ab83fd4f-b583-4ef0-84da-2cce6c6471d0\">\n",
              "    <div class=\"colab-df-container\">\n",
              "      <div>\n",
              "<style scoped>\n",
              "    .dataframe tbody tr th:only-of-type {\n",
              "        vertical-align: middle;\n",
              "    }\n",
              "\n",
              "    .dataframe tbody tr th {\n",
              "        vertical-align: top;\n",
              "    }\n",
              "\n",
              "    .dataframe thead th {\n",
              "        text-align: right;\n",
              "    }\n",
              "</style>\n",
              "<table border=\"1\" class=\"dataframe\">\n",
              "  <thead>\n",
              "    <tr style=\"text-align: right;\">\n",
              "      <th></th>\n",
              "      <th>ID</th>\n",
              "      <th>ValorCredito</th>\n",
              "      <th>Genero</th>\n",
              "      <th>Edudacion</th>\n",
              "      <th>EstadoCivil</th>\n",
              "      <th>Edad</th>\n",
              "      <th>PAY_0</th>\n",
              "      <th>PAY_2</th>\n",
              "      <th>PAY_3</th>\n",
              "      <th>PAY_4</th>\n",
              "      <th>PAY_5</th>\n",
              "      <th>PAY_6</th>\n",
              "      <th>BILL_AMT1</th>\n",
              "      <th>BILL_AMT2</th>\n",
              "      <th>BILL_AMT3</th>\n",
              "      <th>BILL_AMT4</th>\n",
              "      <th>BILL_AMT5</th>\n",
              "      <th>BILL_AMT6</th>\n",
              "      <th>PAY_AMT1</th>\n",
              "      <th>PAY_AMT2</th>\n",
              "      <th>PAY_AMT3</th>\n",
              "      <th>PAY_AMT4</th>\n",
              "      <th>PAY_AMT5</th>\n",
              "      <th>PAY_AMT6</th>\n",
              "      <th>Mora</th>\n",
              "      <th>RangoPoblacional</th>\n",
              "    </tr>\n",
              "  </thead>\n",
              "  <tbody>\n",
              "    <tr>\n",
              "      <th>0</th>\n",
              "      <td>1</td>\n",
              "      <td>20000.0</td>\n",
              "      <td>2</td>\n",
              "      <td>2</td>\n",
              "      <td>1</td>\n",
              "      <td>24</td>\n",
              "      <td>2</td>\n",
              "      <td>2</td>\n",
              "      <td>-1</td>\n",
              "      <td>-1</td>\n",
              "      <td>-2</td>\n",
              "      <td>-2</td>\n",
              "      <td>3913.0</td>\n",
              "      <td>3102.0</td>\n",
              "      <td>689.0</td>\n",
              "      <td>0.0</td>\n",
              "      <td>0.0</td>\n",
              "      <td>0.0</td>\n",
              "      <td>0.0</td>\n",
              "      <td>689.0</td>\n",
              "      <td>0.0</td>\n",
              "      <td>0.0</td>\n",
              "      <td>0.0</td>\n",
              "      <td>0.0</td>\n",
              "      <td>1</td>\n",
              "      <td>Joven</td>\n",
              "    </tr>\n",
              "    <tr>\n",
              "      <th>1</th>\n",
              "      <td>2</td>\n",
              "      <td>120000.0</td>\n",
              "      <td>2</td>\n",
              "      <td>2</td>\n",
              "      <td>2</td>\n",
              "      <td>26</td>\n",
              "      <td>-1</td>\n",
              "      <td>2</td>\n",
              "      <td>0</td>\n",
              "      <td>0</td>\n",
              "      <td>0</td>\n",
              "      <td>2</td>\n",
              "      <td>2682.0</td>\n",
              "      <td>1725.0</td>\n",
              "      <td>2682.0</td>\n",
              "      <td>3272.0</td>\n",
              "      <td>3455.0</td>\n",
              "      <td>3261.0</td>\n",
              "      <td>0.0</td>\n",
              "      <td>1000.0</td>\n",
              "      <td>1000.0</td>\n",
              "      <td>1000.0</td>\n",
              "      <td>0.0</td>\n",
              "      <td>2000.0</td>\n",
              "      <td>1</td>\n",
              "      <td>Joven</td>\n",
              "    </tr>\n",
              "    <tr>\n",
              "      <th>2</th>\n",
              "      <td>3</td>\n",
              "      <td>90000.0</td>\n",
              "      <td>2</td>\n",
              "      <td>2</td>\n",
              "      <td>2</td>\n",
              "      <td>34</td>\n",
              "      <td>0</td>\n",
              "      <td>0</td>\n",
              "      <td>0</td>\n",
              "      <td>0</td>\n",
              "      <td>0</td>\n",
              "      <td>0</td>\n",
              "      <td>29239.0</td>\n",
              "      <td>14027.0</td>\n",
              "      <td>13559.0</td>\n",
              "      <td>14331.0</td>\n",
              "      <td>14948.0</td>\n",
              "      <td>15549.0</td>\n",
              "      <td>1518.0</td>\n",
              "      <td>1500.0</td>\n",
              "      <td>1000.0</td>\n",
              "      <td>1000.0</td>\n",
              "      <td>1000.0</td>\n",
              "      <td>5000.0</td>\n",
              "      <td>0</td>\n",
              "      <td>Adulto</td>\n",
              "    </tr>\n",
              "    <tr>\n",
              "      <th>3</th>\n",
              "      <td>4</td>\n",
              "      <td>50000.0</td>\n",
              "      <td>2</td>\n",
              "      <td>2</td>\n",
              "      <td>1</td>\n",
              "      <td>37</td>\n",
              "      <td>0</td>\n",
              "      <td>0</td>\n",
              "      <td>0</td>\n",
              "      <td>0</td>\n",
              "      <td>0</td>\n",
              "      <td>0</td>\n",
              "      <td>46990.0</td>\n",
              "      <td>48233.0</td>\n",
              "      <td>49291.0</td>\n",
              "      <td>28314.0</td>\n",
              "      <td>28959.0</td>\n",
              "      <td>29547.0</td>\n",
              "      <td>2000.0</td>\n",
              "      <td>2019.0</td>\n",
              "      <td>1200.0</td>\n",
              "      <td>1100.0</td>\n",
              "      <td>1069.0</td>\n",
              "      <td>1000.0</td>\n",
              "      <td>0</td>\n",
              "      <td>Adulto</td>\n",
              "    </tr>\n",
              "    <tr>\n",
              "      <th>4</th>\n",
              "      <td>5</td>\n",
              "      <td>50000.0</td>\n",
              "      <td>1</td>\n",
              "      <td>2</td>\n",
              "      <td>1</td>\n",
              "      <td>57</td>\n",
              "      <td>-1</td>\n",
              "      <td>0</td>\n",
              "      <td>-1</td>\n",
              "      <td>0</td>\n",
              "      <td>0</td>\n",
              "      <td>0</td>\n",
              "      <td>8617.0</td>\n",
              "      <td>5670.0</td>\n",
              "      <td>35835.0</td>\n",
              "      <td>20940.0</td>\n",
              "      <td>19146.0</td>\n",
              "      <td>19131.0</td>\n",
              "      <td>2000.0</td>\n",
              "      <td>36681.0</td>\n",
              "      <td>10000.0</td>\n",
              "      <td>9000.0</td>\n",
              "      <td>689.0</td>\n",
              "      <td>679.0</td>\n",
              "      <td>0</td>\n",
              "      <td>Adulto</td>\n",
              "    </tr>\n",
              "  </tbody>\n",
              "</table>\n",
              "</div>\n",
              "      <button class=\"colab-df-convert\" onclick=\"convertToInteractive('df-ab83fd4f-b583-4ef0-84da-2cce6c6471d0')\"\n",
              "              title=\"Convert this dataframe to an interactive table.\"\n",
              "              style=\"display:none;\">\n",
              "        \n",
              "  <svg xmlns=\"http://www.w3.org/2000/svg\" height=\"24px\"viewBox=\"0 0 24 24\"\n",
              "       width=\"24px\">\n",
              "    <path d=\"M0 0h24v24H0V0z\" fill=\"none\"/>\n",
              "    <path d=\"M18.56 5.44l.94 2.06.94-2.06 2.06-.94-2.06-.94-.94-2.06-.94 2.06-2.06.94zm-11 1L8.5 8.5l.94-2.06 2.06-.94-2.06-.94L8.5 2.5l-.94 2.06-2.06.94zm10 10l.94 2.06.94-2.06 2.06-.94-2.06-.94-.94-2.06-.94 2.06-2.06.94z\"/><path d=\"M17.41 7.96l-1.37-1.37c-.4-.4-.92-.59-1.43-.59-.52 0-1.04.2-1.43.59L10.3 9.45l-7.72 7.72c-.78.78-.78 2.05 0 2.83L4 21.41c.39.39.9.59 1.41.59.51 0 1.02-.2 1.41-.59l7.78-7.78 2.81-2.81c.8-.78.8-2.07 0-2.86zM5.41 20L4 18.59l7.72-7.72 1.47 1.35L5.41 20z\"/>\n",
              "  </svg>\n",
              "      </button>\n",
              "      \n",
              "  <style>\n",
              "    .colab-df-container {\n",
              "      display:flex;\n",
              "      flex-wrap:wrap;\n",
              "      gap: 12px;\n",
              "    }\n",
              "\n",
              "    .colab-df-convert {\n",
              "      background-color: #E8F0FE;\n",
              "      border: none;\n",
              "      border-radius: 50%;\n",
              "      cursor: pointer;\n",
              "      display: none;\n",
              "      fill: #1967D2;\n",
              "      height: 32px;\n",
              "      padding: 0 0 0 0;\n",
              "      width: 32px;\n",
              "    }\n",
              "\n",
              "    .colab-df-convert:hover {\n",
              "      background-color: #E2EBFA;\n",
              "      box-shadow: 0px 1px 2px rgba(60, 64, 67, 0.3), 0px 1px 3px 1px rgba(60, 64, 67, 0.15);\n",
              "      fill: #174EA6;\n",
              "    }\n",
              "\n",
              "    [theme=dark] .colab-df-convert {\n",
              "      background-color: #3B4455;\n",
              "      fill: #D2E3FC;\n",
              "    }\n",
              "\n",
              "    [theme=dark] .colab-df-convert:hover {\n",
              "      background-color: #434B5C;\n",
              "      box-shadow: 0px 1px 3px 1px rgba(0, 0, 0, 0.15);\n",
              "      filter: drop-shadow(0px 1px 2px rgba(0, 0, 0, 0.3));\n",
              "      fill: #FFFFFF;\n",
              "    }\n",
              "  </style>\n",
              "\n",
              "      <script>\n",
              "        const buttonEl =\n",
              "          document.querySelector('#df-ab83fd4f-b583-4ef0-84da-2cce6c6471d0 button.colab-df-convert');\n",
              "        buttonEl.style.display =\n",
              "          google.colab.kernel.accessAllowed ? 'block' : 'none';\n",
              "\n",
              "        async function convertToInteractive(key) {\n",
              "          const element = document.querySelector('#df-ab83fd4f-b583-4ef0-84da-2cce6c6471d0');\n",
              "          const dataTable =\n",
              "            await google.colab.kernel.invokeFunction('convertToInteractive',\n",
              "                                                     [key], {});\n",
              "          if (!dataTable) return;\n",
              "\n",
              "          const docLinkHtml = 'Like what you see? Visit the ' +\n",
              "            '<a target=\"_blank\" href=https://colab.research.google.com/notebooks/data_table.ipynb>data table notebook</a>'\n",
              "            + ' to learn more about interactive tables.';\n",
              "          element.innerHTML = '';\n",
              "          dataTable['output_type'] = 'display_data';\n",
              "          await google.colab.output.renderOutput(dataTable, element);\n",
              "          const docLink = document.createElement('div');\n",
              "          docLink.innerHTML = docLinkHtml;\n",
              "          element.appendChild(docLink);\n",
              "        }\n",
              "      </script>\n",
              "    </div>\n",
              "  </div>\n",
              "  "
            ]
          },
          "metadata": {},
          "execution_count": 86
        }
      ]
    },
    {
      "cell_type": "code",
      "source": [
        "df.RangoPoblacional.value_counts()"
      ],
      "metadata": {
        "colab": {
          "base_uri": "https://localhost:8080/"
        },
        "id": "uA16GwjjXhTo",
        "outputId": "b4f9fa67-666c-4069-9260-c2519a7f616e"
      },
      "execution_count": 87,
      "outputs": [
        {
          "output_type": "execute_result",
          "data": {
            "text/plain": [
              "Adulto         18715\n",
              "Joven          11013\n",
              "AdultoMayor      272\n",
              "Name: RangoPoblacional, dtype: int64"
            ]
          },
          "metadata": {},
          "execution_count": 87
        }
      ]
    },
    {
      "cell_type": "code",
      "source": [
        "df.RangoPoblacional.value_counts()/len(df)*100"
      ],
      "metadata": {
        "colab": {
          "base_uri": "https://localhost:8080/"
        },
        "id": "ljfj-GftX1Uq",
        "outputId": "18f469b7-0e2d-427e-9b0d-c5a55fd73eb0"
      },
      "execution_count": 88,
      "outputs": [
        {
          "output_type": "execute_result",
          "data": {
            "text/plain": [
              "Adulto         62.383333\n",
              "Joven          36.710000\n",
              "AdultoMayor     0.906667\n",
              "Name: RangoPoblacional, dtype: float64"
            ]
          },
          "metadata": {},
          "execution_count": 88
        }
      ]
    },
    {
      "cell_type": "code",
      "source": [
        ""
      ],
      "metadata": {
        "id": "0MHtb22vX69L"
      },
      "execution_count": null,
      "outputs": []
    }
  ]
}